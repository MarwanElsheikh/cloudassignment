{
 "cells": [
  {
   "cell_type": "code",
   "execution_count": 1,
   "id": "65cfbb56-9f4c-43cd-bb5f-59877615f014",
   "metadata": {},
   "outputs": [
    {
     "name": "stdout",
     "output_type": "stream",
     "text": [
      "The Top Selling Harry Potter Books:\n",
      "                                                title  ratings_count\n",
      "1   Harry Potter and the Sorcerer's Stone (Harry P...        4602479\n",
      "6   Harry Potter and the Prisoner of Azkaban (Harr...        1832823\n",
      "9   Harry Potter and the Chamber of Secrets (Harry...        1779331\n",
      "10  Harry Potter and the Goblet of Fire (Harry Pot...        1753043\n",
      "11  Harry Potter and the Deathly Hallows (Harry Po...        1746574\n",
      "8   Harry Potter and the Order of the Phoenix (Har...        1735368\n",
      "12  Harry Potter and the Half-Blood Prince (Harry ...        1678823\n",
      "\n",
      "Average Rate for Harry Potter Books:\n",
      "4.482727272727273\n"
     ]
    }
   ],
   "source": [
    "import pandas as pd\n",
    "\n",
    "Books = pd.read_csv('books.csv')\n",
    "\n",
    "Books['ratings_count'] = pd.to_numeric(Books['ratings_count'], errors='coerce')\n",
    "Books['average_rating'] = Books['average_rating'].astype(float)\n",
    "\n",
    "Books.dropna(subset=['title', 'ratings_count', 'average_rating'], inplace=True)\n",
    "\n",
    "hp_books = Books[Books['title'].str.contains(\"Harry Potter\")]\n",
    "\n",
    "ms_hp = hp_books.nlargest(7, 'ratings_count')\n",
    "\n",
    "avg_hp_rate = hp_books['average_rating'].mean()\n",
    "\n",
    "print(\"The Top Selling Harry Potter Books:\")\n",
    "print(ms_hp[['title', 'ratings_count']])\n",
    "print(\"\\nAverage Rate for Harry Potter Books:\")\n",
    "print(avg_hp_rate)\n"
   ]
  },
  {
   "cell_type": "code",
   "execution_count": null,
   "id": "12a212a4-f7de-4724-95f2-cb993098eb3c",
   "metadata": {},
   "outputs": [],
   "source": []
  }
 ],
 "metadata": {
  "kernelspec": {
   "display_name": "Python 3 (ipykernel)",
   "language": "python",
   "name": "python3"
  },
  "language_info": {
   "codemirror_mode": {
    "name": "ipython",
    "version": 3
   },
   "file_extension": ".py",
   "mimetype": "text/x-python",
   "name": "python",
   "nbconvert_exporter": "python",
   "pygments_lexer": "ipython3",
   "version": "3.11.4"
  }
 },
 "nbformat": 4,
 "nbformat_minor": 5
}
